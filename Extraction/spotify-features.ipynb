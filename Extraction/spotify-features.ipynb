{
 "cells": [
  {
   "cell_type": "code",
   "execution_count": 1,
   "metadata": {},
   "outputs": [],
   "source": [
    "#Imports\n",
    "from apikeys import CLIENT_ID, CLIENT_SECRET\n",
    "import requests\n",
    "from pprint import pprint\n",
    "import json\n",
    "import time"
   ]
  },
  {
   "attachments": {},
   "cell_type": "markdown",
   "metadata": {},
   "source": [
    "## Restructure Billboard Output to a more useful format"
   ]
  },
  {
   "cell_type": "code",
   "execution_count": 5,
   "metadata": {},
   "outputs": [],
   "source": [
    "#Read in Data\n",
    "json_path = 'Outputs/billboard-hot-100.json'\n",
    "with open(json_path) as data:\n",
    "    data = json.load(data)\n",
    "    data = data['data']"
   ]
  },
  {
   "cell_type": "code",
   "execution_count": 6,
   "metadata": {},
   "outputs": [],
   "source": [
    "#Extract just the date and song titles (Formatted for use in Spotify API)\n",
    "cleaned_list = []\n",
    "for period in data:\n",
    "    song_list = []\n",
    "    for song in period['songs']['songs']:\n",
    "        song_list.append(f\"track:{song['title']} artist:{song['artist']}&type=track&limit=1\")\n",
    "    week_dict = {'date': period['songs']['week'],\n",
    "                 'top_songs': song_list}\n",
    "    cleaned_list.append(week_dict)"
   ]
  },
  {
   "cell_type": "code",
   "execution_count": 7,
   "metadata": {},
   "outputs": [],
   "source": [
    "#Save JSON\n",
    "with open('./Outputs/cleaned_billboard.json', 'w', encoding='utf-8') as f:\n",
    "    json.dump({'data':cleaned_list}, f, ensure_ascii=False, indent=4)"
   ]
  },
  {
   "attachments": {},
   "cell_type": "markdown",
   "metadata": {},
   "source": [
    "## Get Track Data from Spotify API"
   ]
  },
  {
   "cell_type": "code",
   "execution_count": 6,
   "metadata": {},
   "outputs": [],
   "source": [
    "#Get Spotify AUTH Token\n",
    "def get_auth():\n",
    "    print('Re-Auth')\n",
    "    auth_url = 'https://accounts.spotify.com/api/token'\n",
    "\n",
    "    auth_response = requests.post(auth_url, {\n",
    "        'grant_type': 'client_credentials',\n",
    "        'client_id': CLIENT_ID,\n",
    "        'client_secret': CLIENT_SECRET,\n",
    "    })\n",
    "\n",
    "    auth_response_data = auth_response.json()\n",
    "    access_token = auth_response_data['access_token']\n",
    "    headers = {\n",
    "        'Authorization': 'Bearer {token}'.format(token=access_token)\n",
    "    }\n",
    "    return headers"
   ]
  },
  {
   "cell_type": "code",
   "execution_count": null,
   "metadata": {},
   "outputs": [],
   "source": [
    "#Get Spotify information for each track in the Billboard list\n",
    "#Note: This section takes ~3 hours to run with appropriate API Usage times, be patient\n",
    "head = get_auth()\n",
    "base_url = 'https://api.spotify.com/v1/'\n",
    "total = 0\n",
    "failed = 0\n",
    "spotify_data = []\n",
    "#Loop through each period\n",
    "for period in cleaned_list:\n",
    "    track_list = []\n",
    "    #Loop through each track\n",
    "    for track in period['top_songs']:\n",
    "        #Sleep as to avoid Spotify API Rate Limits\n",
    "        time.sleep(1)\n",
    "        #Get a new Access Token every 750 tracks so it doesn't time out\n",
    "        if total % 750 == 0:\n",
    "            head = get_auth()\n",
    "        total += 1\n",
    "        response = requests.get(base_url + 'search?q=' + track, headers=head).json()\n",
    "        #Check if track exists\n",
    "        try:\n",
    "            #Get TrackID, ArtistID, Title, and Artist\n",
    "            track_id = response['tracks']['items'][0]['id']\n",
    "            track_title = response['tracks']['items'][0]['name']\n",
    "            track_artist = response['tracks']['items'][0]['artists'][0]['name']\n",
    "            artist_id = response['tracks']['items'][0]['artists'][0]['id']\n",
    "            #Get album genres\n",
    "            genres = requests.get(base_url + 'artists/' + artist_id, headers=head).json()\n",
    "            #Get track features\n",
    "            features = requests.get(base_url + 'audio-features/' + track_id, headers=head).json()\n",
    "            #Add ID, Artist, Title, and Features dict to Track List\n",
    "            track_list.append({'track_id': track_id,\n",
    "                               'track_title': track_title,\n",
    "                               'track_artist': track_artist,\n",
    "                               'features': features,\n",
    "                               'genres': genres['genres'][:3]})\n",
    "        except:\n",
    "            failed += 1\n",
    "            print(f'{track} not found. Failed {failed}/{total} tracks. {(1-(failed/total))*100}% Success Rate')\n",
    "            print(response)\n",
    "            \n",
    "    print('----------------------------Appending Period----------------------------')\n",
    "    \n",
    "    spotify_data.append({'date': period['date'],\n",
    "                         'top_tracks': track_list})"
   ]
  },
  {
   "cell_type": "code",
   "execution_count": 11,
   "metadata": {},
   "outputs": [],
   "source": [
    "#Save JSON\n",
    "with open('./Outputs/features.json', 'w', encoding='utf-8') as f:\n",
    "    json.dump(spotify_data, f, ensure_ascii=False, indent=4)"
   ]
  }
 ],
 "metadata": {
  "kernelspec": {
   "display_name": "base",
   "language": "python",
   "name": "python3"
  },
  "language_info": {
   "codemirror_mode": {
    "name": "ipython",
    "version": 3
   },
   "file_extension": ".py",
   "mimetype": "text/x-python",
   "name": "python",
   "nbconvert_exporter": "python",
   "pygments_lexer": "ipython3",
   "version": "3.9.13"
  },
  "orig_nbformat": 4
 },
 "nbformat": 4,
 "nbformat_minor": 2
}
