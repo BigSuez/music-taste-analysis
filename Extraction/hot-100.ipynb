{
 "cells": [
  {
   "cell_type": "code",
   "execution_count": 2,
   "metadata": {},
   "outputs": [],
   "source": [
    "import requests\n",
    "from pprint import pprint\n",
    "import json"
   ]
  },
  {
   "cell_type": "code",
   "execution_count": null,
   "metadata": {},
   "outputs": [],
   "source": [
    "dates = []\n",
    "year = 1970\n",
    "month = 1\n",
    "for x in range(0, 110):\n",
    "    response = requests.get(f'https://billboard-hot-100-api.onrender.com/charts?date={year}-0{month}-02').json()\n",
    "    if month == 1:\n",
    "        month = 6\n",
    "    elif month == 6:\n",
    "        year += 1\n",
    "        month = 1\n",
    "    dates.append({'date':f'{year}/0{month}', 'songs': response})\n",
    "    pprint(response)\n"
   ]
  },
  {
   "cell_type": "code",
   "execution_count": 5,
   "metadata": {},
   "outputs": [],
   "source": [
    "billboard_json = {'data': dates}\n",
    "with open('billboard-hot-100.json', 'w', encoding='utf-8') as f:\n",
    "    json.dump(billboard_json, f, ensure_ascii=False, indent=4)"
   ]
  }
 ],
 "metadata": {
  "kernelspec": {
   "display_name": "base",
   "language": "python",
   "name": "python3"
  },
  "language_info": {
   "codemirror_mode": {
    "name": "ipython",
    "version": 3
   },
   "file_extension": ".py",
   "mimetype": "text/x-python",
   "name": "python",
   "nbconvert_exporter": "python",
   "pygments_lexer": "ipython3",
   "version": "3.9.13"
  },
  "orig_nbformat": 4
 },
 "nbformat": 4,
 "nbformat_minor": 2
}
