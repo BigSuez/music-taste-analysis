{
 "cells": [
  {
   "cell_type": "markdown",
   "metadata": {},
   "source": [
    "# Get average feature stats for each period"
   ]
  },
  {
   "cell_type": "code",
   "execution_count": 1,
   "metadata": {},
   "outputs": [],
   "source": [
    "import json\n",
    "from pprint import pprint\n",
    "import pandas as pd"
   ]
  },
  {
   "cell_type": "code",
   "execution_count": 2,
   "metadata": {},
   "outputs": [],
   "source": [
    "#Read in Data\n",
    "json_path = 'Outputs/features.json'\n",
    "with open(json_path) as data:\n",
    "    data = json.load(data)"
   ]
  },
  {
   "cell_type": "code",
   "execution_count": 2,
   "metadata": {},
   "outputs": [],
   "source": [
    "def getAvg(list):\n",
    "    return sum(list) / len(list)"
   ]
  },
  {
   "cell_type": "code",
   "execution_count": 9,
   "metadata": {},
   "outputs": [],
   "source": [
    "avg_stats = []\n",
    "\n",
    "for period in data:\n",
    "    danceability_period, energy_period, loudness_period, mode_period,\\\n",
    "    speechiness_period, acousticness_period, instrumentalness_period,\\\n",
    "    liveness_period, valence_period, tempo_period, duration_period = ([] for i in range(11))\n",
    "\n",
    "    for track in period['top_tracks']:\n",
    "        features = track['features']\n",
    "        danceability_period.append(features['danceability'])\n",
    "        energy_period.append(features['energy'])\n",
    "        loudness_period.append(features['loudness'])\n",
    "        mode_period.append(features['mode'])\n",
    "        speechiness_period.append(features['speechiness'])\n",
    "        acousticness_period.append(features['acousticness'])\n",
    "        instrumentalness_period.append(features['instrumentalness'])\n",
    "        liveness_period.append(features['liveness'])\n",
    "        valence_period.append(features['valence'])\n",
    "        tempo_period.append(features['tempo'])\n",
    "        duration_period.append(features['duration_ms'])\n",
    "        \n",
    "    avg_stats.append({'date': period['date'],\n",
    "                    'stats': {\n",
    "                        'avg_danceability': getAvg(danceability_period),\n",
    "                        'avg_energy': getAvg(energy_period),\n",
    "                        'avg_loudness': getAvg(loudness_period),\n",
    "                        'avg_mode': getAvg(mode_period),\n",
    "                        'avg_speechiness': getAvg(speechiness_period),\n",
    "                        'avg_acousticness': getAvg(acousticness_period),\n",
    "                        'avg_instrumentalness': getAvg(instrumentalness_period),\n",
    "                        'avg_liveness': getAvg(liveness_period),\n",
    "                        'avg_valence': getAvg(valence_period),\n",
    "                        'avg_tempo': getAvg(tempo_period),\n",
    "                        'avg_duration': getAvg(duration_period),\n",
    "                        'top_genres': []\n",
    "                    }})"
   ]
  },
  {
   "cell_type": "code",
   "execution_count": 11,
   "metadata": {},
   "outputs": [],
   "source": [
    "#Save JSON\n",
    "with open('./Outputs/period_stats.json', 'w', encoding='utf-8') as f:\n",
    "    json.dump(avg_stats, f, ensure_ascii=False, indent=4)"
   ]
  },
  {
   "cell_type": "markdown",
   "metadata": {},
   "source": [
    "## Get Genre information"
   ]
  },
  {
   "cell_type": "code",
   "execution_count": 26,
   "metadata": {},
   "outputs": [],
   "source": [
    "#Select Genres to Track\n",
    "genre_list = ['pop', 'rock', 'country', 'r&b', 'disco', 'funk', 'rap', 'metal']"
   ]
  },
  {
   "cell_type": "code",
   "execution_count": 30,
   "metadata": {},
   "outputs": [],
   "source": [
    "#Function to check if targer genre is in track genre list\n",
    "def check_genre(track_genres, target_genre):\n",
    "    for genre in track_genres:\n",
    "        if target_genre in genre:\n",
    "            return 1\n",
    "    return 0"
   ]
  },
  {
   "cell_type": "code",
   "execution_count": 38,
   "metadata": {},
   "outputs": [],
   "source": [
    "#Create list with number of each genre category per period\n",
    "genre_stats = []\n",
    "for period in data:\n",
    "    pop_count=rock_count=country_count=rnb_count=disco_count=funk_count=rap_count=metal_count = 0\n",
    "\n",
    "    for track in period['top_tracks']:\n",
    "        pop_count += check_genre(track['genres'], 'pop')\n",
    "        rock_count += check_genre(track['genres'], 'rock')\n",
    "        country_count += check_genre(track['genres'], 'country')\n",
    "        rnb_count += check_genre(track['genres'], 'r&b')\n",
    "        disco_count += check_genre(track['genres'], 'disco')\n",
    "        funk_count += check_genre(track['genres'], 'funk')\n",
    "        rap_count += check_genre(track['genres'], 'rap')\n",
    "        metal_count += check_genre(track['genres'], 'metal')\n",
    "    \n",
    "    genre_stats.append({'date': period['date'],\n",
    "                       'genres': {\n",
    "                           'pop': pop_count,\n",
    "                           'rock': rock_count,\n",
    "                           'country': country_count,\n",
    "                           'r&b': rnb_count,\n",
    "                           'disco': disco_count,\n",
    "                           'funk': funk_count,\n",
    "                           'rap': rap_count,\n",
    "                           'metal': metal_count\n",
    "                       }})"
   ]
  },
  {
   "cell_type": "code",
   "execution_count": 39,
   "metadata": {},
   "outputs": [],
   "source": [
    "#Save JSON\n",
    "with open('./Outputs/genre_stats.json', 'w', encoding='utf-8') as f:\n",
    "    json.dump(genre_stats, f, ensure_ascii=False, indent=4)"
   ]
  }
 ],
 "metadata": {
  "kernelspec": {
   "display_name": "base",
   "language": "python",
   "name": "python3"
  },
  "language_info": {
   "codemirror_mode": {
    "name": "ipython",
    "version": 3
   },
   "file_extension": ".py",
   "mimetype": "text/x-python",
   "name": "python",
   "nbconvert_exporter": "python",
   "pygments_lexer": "ipython3",
   "version": "3.9.13"
  },
  "orig_nbformat": 4
 },
 "nbformat": 4,
 "nbformat_minor": 2
}
