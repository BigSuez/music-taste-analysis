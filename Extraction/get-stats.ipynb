{
 "cells": [
  {
   "cell_type": "markdown",
   "metadata": {},
   "source": [
    "# Get average feature stats for each period"
   ]
  },
  {
   "cell_type": "code",
   "execution_count": 1,
   "metadata": {},
   "outputs": [],
   "source": [
    "import json\n",
    "from pprint import pprint"
   ]
  },
  {
   "cell_type": "code",
   "execution_count": 4,
   "metadata": {},
   "outputs": [],
   "source": [
    "#Read in Data\n",
    "json_path = 'Outputs/features.json'\n",
    "with open(json_path) as data:\n",
    "    data = json.load(data)"
   ]
  },
  {
   "cell_type": "code",
   "execution_count": 2,
   "metadata": {},
   "outputs": [],
   "source": [
    "def getAvg(list):\n",
    "    return sum(list) / len(list)"
   ]
  },
  {
   "cell_type": "code",
   "execution_count": 9,
   "metadata": {},
   "outputs": [],
   "source": [
    "avg_stats = []\n",
    "\n",
    "for period in data:\n",
    "    danceability_period, energy_period, loudness_period, mode_period,\\\n",
    "    speechiness_period, acousticness_period, instrumentalness_period,\\\n",
    "    liveness_period, valence_period, tempo_period, duration_period = ([] for i in range(11))\n",
    "\n",
    "    for track in period['top_tracks']:\n",
    "        features = track['features']\n",
    "        danceability_period.append(features['danceability'])\n",
    "        energy_period.append(features['energy'])\n",
    "        loudness_period.append(features['loudness'])\n",
    "        mode_period.append(features['mode'])\n",
    "        speechiness_period.append(features['speechiness'])\n",
    "        acousticness_period.append(features['acousticness'])\n",
    "        instrumentalness_period.append(features['instrumentalness'])\n",
    "        liveness_period.append(features['liveness'])\n",
    "        valence_period.append(features['valence'])\n",
    "        tempo_period.append(features['tempo'])\n",
    "        duration_period.append(features['duration_ms'])\n",
    "        \n",
    "    avg_stats.append({'date': period['date'],\n",
    "                    'stats': {\n",
    "                        'avg_danceability': getAvg(danceability_period),\n",
    "                        'avg_energy': getAvg(energy_period),\n",
    "                        'avg_loudness': getAvg(loudness_period),\n",
    "                        'avg_mode': getAvg(mode_period),\n",
    "                        'avg_speechiness': getAvg(speechiness_period),\n",
    "                        'avg_acousticness': getAvg(acousticness_period),\n",
    "                        'avg_instrumentalness': getAvg(instrumentalness_period),\n",
    "                        'avg_liveness': getAvg(liveness_period),\n",
    "                        'avg_valence': getAvg(valence_period),\n",
    "                        'avg_tempo': getAvg(tempo_period),\n",
    "                        'avg_duration': getAvg(duration_period),\n",
    "                        'top_genres': []\n",
    "                    }})"
   ]
  },
  {
   "cell_type": "code",
   "execution_count": 11,
   "metadata": {},
   "outputs": [],
   "source": [
    "#Save JSON\n",
    "with open('./Outputs/period_stats.json', 'w', encoding='utf-8') as f:\n",
    "    json.dump(avg_stats, f, ensure_ascii=False, indent=4)"
   ]
  }
 ],
 "metadata": {
  "kernelspec": {
   "display_name": "base",
   "language": "python",
   "name": "python3"
  },
  "language_info": {
   "codemirror_mode": {
    "name": "ipython",
    "version": 3
   },
   "file_extension": ".py",
   "mimetype": "text/x-python",
   "name": "python",
   "nbconvert_exporter": "python",
   "pygments_lexer": "ipython3",
   "version": "3.9.13"
  },
  "orig_nbformat": 4
 },
 "nbformat": 4,
 "nbformat_minor": 2
}
